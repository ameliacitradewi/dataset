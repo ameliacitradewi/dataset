{
  "nbformat": 4,
  "nbformat_minor": 0,
  "metadata": {
    "colab": {
      "provenance": [],
      "mount_file_id": "1u1zKgwvp-B-MGUAxXseo0_vaJmz3lsj_",
      "authorship_tag": "ABX9TyO57YvHxoD3lQhGPn5KICiw",
      "include_colab_link": true
    },
    "kernelspec": {
      "name": "python3",
      "display_name": "Python 3"
    },
    "language_info": {
      "name": "python"
    }
  },
  "cells": [
    {
      "cell_type": "markdown",
      "metadata": {
        "id": "view-in-github",
        "colab_type": "text"
      },
      "source": [
        "<a href=\"https://colab.research.google.com/github/ameliacitradewi/dataset/blob/main/SPK_Karyawan.ipynb\" target=\"_parent\"><img src=\"https://colab.research.google.com/assets/colab-badge.svg\" alt=\"Open In Colab\"/></a>"
      ]
    },
    {
      "cell_type": "code",
      "execution_count": 13,
      "metadata": {
        "colab": {
          "base_uri": "https://localhost:8080/"
        },
        "id": "dAyP0ygMsAU-",
        "outputId": "4d9beab6-cff3-4a13-8413-29bfb5349601"
      },
      "outputs": [
        {
          "output_type": "stream",
          "name": "stdout",
          "text": [
            "Top 10 Employees Recommended for Manager:\n",
            "     ID     Score\n",
            "0  3226  0.923308\n",
            "1  2997  0.907519\n",
            "2  3967  0.898308\n",
            "3  3822  0.867857\n",
            "4  2594  0.865414\n",
            "5  3956  0.856203\n",
            "6  1541  0.854887\n",
            "7    47  0.854887\n",
            "8  1369  0.854887\n",
            "9  2982  0.845677\n"
          ]
        },
        {
          "output_type": "stream",
          "name": "stderr",
          "text": [
            "<ipython-input-13-24e4132e6019>:14: SettingWithCopyWarning: \n",
            "A value is trying to be set on a copy of a slice from a DataFrame.\n",
            "Try using .loc[row_indexer,col_indexer] = value instead\n",
            "\n",
            "See the caveats in the documentation: https://pandas.pydata.org/pandas-docs/stable/user_guide/indexing.html#returning-a-view-versus-a-copy\n",
            "  data_saw['Education'] = data_saw['Education'].map(education_mapping)\n",
            "<ipython-input-13-24e4132e6019>:15: SettingWithCopyWarning: \n",
            "A value is trying to be set on a copy of a slice from a DataFrame.\n",
            "Try using .loc[row_indexer,col_indexer] = value instead\n",
            "\n",
            "See the caveats in the documentation: https://pandas.pydata.org/pandas-docs/stable/user_guide/indexing.html#returning-a-view-versus-a-copy\n",
            "  data_saw['Ever Benched'] = data_saw['Ever Benched'].map(benched_mapping)\n",
            "<ipython-input-13-24e4132e6019>:18: SettingWithCopyWarning: \n",
            "A value is trying to be set on a copy of a slice from a DataFrame.\n",
            "Try using .loc[row_indexer,col_indexer] = value instead\n",
            "\n",
            "See the caveats in the documentation: https://pandas.pydata.org/pandas-docs/stable/user_guide/indexing.html#returning-a-view-versus-a-copy\n",
            "  data_saw['Tenure'] = 2024 - data_saw['Joining']\n"
          ]
        }
      ],
      "source": [
        "import pandas as pd\n",
        "\n",
        "# Load the dataset\n",
        "file_path = \"/content/drive/MyDrive/Colab Notebooks/Data SAW.xlsx\"\n",
        "data = pd.read_excel(file_path, sheet_name='Employee')\n",
        "\n",
        "# Select relevant columns\n",
        "data_saw = data[['ID', 'Education', 'Joining', 'Payment Tier', 'Age', 'Ever Benched', 'Experience in Current Domain']]\n",
        "\n",
        "# Encode categorical variables: 'Education' and 'Ever Benched'\n",
        "education_mapping = {'Bachelors': 1, 'Masters': 2, 'PHD': 3}\n",
        "benched_mapping = {'No': 1, 'Yes': 0}\n",
        "\n",
        "data_saw['Education'] = data_saw['Education'].map(education_mapping)\n",
        "data_saw['Ever Benched'] = data_saw['Ever Benched'].map(benched_mapping)\n",
        "\n",
        "# Calculate tenure by subtracting the joining year from the current year (2024)\n",
        "data_saw['Tenure'] = 2024 - data_saw['Joining']\n",
        "\n",
        "# Drop the original 'Joining' column as we now have 'Tenure'\n",
        "data_saw = data_saw.drop('Joining', axis=1)\n",
        "\n",
        "# Normalize the numerical columns using Min-Max normalization\n",
        "normalized_data = data_saw.copy()\n",
        "for column in ['Education', 'Tenure', 'Payment Tier', 'Age', 'Ever Benched', 'Experience in Current Domain']:\n",
        "    normalized_data[column] = (data_saw[column] - data_saw[column].min()) / (data_saw[column].max() - data_saw[column].min())\n",
        "\n",
        "# Define the weights for each criterion\n",
        "weights = {\n",
        "    'Education': 0.3,\n",
        "    'Tenure': 0.15,\n",
        "    'Payment Tier': 0.1,\n",
        "    'Age': 0.1,\n",
        "    'Ever Benched': 0.1,\n",
        "    'Experience in Current Domain': 0.25\n",
        "}\n",
        "\n",
        "# Calculate the SAW score for each employee\n",
        "normalized_data['Score'] = (\n",
        "    normalized_data['Education'] * weights['Education'] +\n",
        "    normalized_data['Tenure'] * weights['Tenure'] +\n",
        "    normalized_data['Payment Tier'] * weights['Payment Tier'] +\n",
        "    normalized_data['Age'] * weights['Age'] +\n",
        "    normalized_data['Ever Benched'] * weights['Ever Benched'] +\n",
        "    normalized_data['Experience in Current Domain'] * weights['Experience in Current Domain']\n",
        ")\n",
        "\n",
        "# Tampilkan ulang top 10 hasil rekomendasi dengan lebih jelas\n",
        "top_recommendation = recommendation[['ID', 'Score']].reset_index(drop=True)\n",
        "\n",
        "print(\"Top 10 Employees Recommended for Manager:\")\n",
        "print(top_recommendation.head(10))\n"
      ]
    }
  ]
}